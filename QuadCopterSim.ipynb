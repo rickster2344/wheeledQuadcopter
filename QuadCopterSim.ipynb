{
 "cells": [
  {
   "cell_type": "code",
   "execution_count": 20,
   "metadata": {},
   "outputs": [],
   "source": [
    "import sympy as sp\n",
    "import sympy as sp\n",
    "import numpy as np\n",
    "import matplotlib.pyplot as plt\n",
    "from sympy.physics.vector import init_vprinting\n",
    "\n",
    "init_vprinting(use_latex='mathjax')\n",
    "\n",
    "#Defining rotation matrix builder\n",
    "def getRot(axis, var):\n",
    "    if axis == '1':\n",
    "        return sp.Matrix([[1, 0, 0],\n",
    "                [0, sp.cos(var), -sp.sin(var)],\n",
    "                [0,sp.sin(var), sp.cos(var)]])\n",
    "    if axis == '2':\n",
    "        return sp.Matrix([[sp.cos(var), 0, sp.sin(var)],\n",
    "                [0, 1, 0],\n",
    "                [-sp.sin(var), 0, sp.cos(var)]])\n",
    "    if axis == '3':\n",
    "        return sp.Matrix([[sp.cos(var), -sp.sin(var), 0],\n",
    "               [sp.sin(var), sp.cos(var), 0],\n",
    "               [0, 0, 1]])\n",
    "    else:\n",
    "        print('Invalid entry')\n",
    "        \n",
    "#Function that simplifies elements in a matrix\n",
    "def simplifyMatrix(matrix):\n",
    "    for i in range(len(matrix.col(0))):\n",
    "        for j in range(len(matrix.row(0))):\n",
    "            matrix[i,j] = matrix[i,j].simplify()\n",
    "    return matrix\n",
    "\n",
    "#Cross product\n",
    "def cross(v1,v2):\n",
    "    icomp  = v1[1]*v2[2]-v1[2]*v2[1]\n",
    "    jcomp = v1[2]*v2[0]-v1[0]*v2[2]\n",
    "    kcomp = v1[0]*v2[1]-v1[1]*v2[0]\n",
    "    return sp.Matrix([icomp,jcomp,kcomp])\n",
    "\n",
    "\n",
    "#Functions that creates skew symettric matrix from vector\n",
    "def skew(a):\n",
    "    return sp.Matrix([\n",
    "        [0, -a[2], a[1]],\n",
    "        [a[2], 0, -a[0]],\n",
    "        [-a[1], a[0], 0]])\n",
    "\n",
    "#Functions that creates vector from skew symettric matrix\n",
    "def unskew(a):\n",
    "    if ((a[2,1] == -a[1,2]) and (a[0,2]== -a[2,0]) and (a[1,0] == -a[0,1])):\n",
    "        return sp.Matrix([\n",
    "            [a[2,1]],\n",
    "            [a[0,2]],\n",
    "            [a[1,0]]])\n",
    "    else:\n",
    "        print('Matrix is not skew symmetric')\n",
    "        return\n",
    "\n",
    "\n",
    "def principalJ(J1,J2,J3):\n",
    "    return sp.Matrix([[J1,0,0],\n",
    "                      [0,J2,0],\n",
    "                      [0,0,J3]])\n",
    "\n",
    "def degToRad(x):\n",
    "    return x*sp.pi/180\n",
    "\n",
    "def radToDeg(x):\n",
    "    return x*180/sp.pi\n",
    "\n",
    "def displayH(H):\n",
    "    s = sp.Function('s')\n",
    "    c = sp.Function('c')\n",
    "    display(H.replace(sp.sin,s).replace(sp.cos,c))"
   ]
  },
  {
   "cell_type": "code",
   "execution_count": 42,
   "metadata": {},
   "outputs": [
    {
     "name": "stdout",
     "output_type": "stream",
     "text": [
      "R0B:\n"
     ]
    },
    {
     "data": {
      "text/latex": [
       "$\\displaystyle \\left[\\begin{matrix}c{\\left(\\psi \\right)} c{\\left(\\theta \\right)} & - c{\\left(\\phi \\right)} s{\\left(\\psi \\right)} + c{\\left(\\psi \\right)} s{\\left(\\phi \\right)} s{\\left(\\theta \\right)} & c{\\left(\\phi \\right)} c{\\left(\\psi \\right)} s{\\left(\\theta \\right)} + s{\\left(\\phi \\right)} s{\\left(\\psi \\right)}\\\\c{\\left(\\theta \\right)} s{\\left(\\psi \\right)} & c{\\left(\\phi \\right)} c{\\left(\\psi \\right)} + s{\\left(\\phi \\right)} s{\\left(\\psi \\right)} s{\\left(\\theta \\right)} & c{\\left(\\phi \\right)} s{\\left(\\psi \\right)} s{\\left(\\theta \\right)} - c{\\left(\\psi \\right)} s{\\left(\\phi \\right)}\\\\- s{\\left(\\theta \\right)} & c{\\left(\\theta \\right)} s{\\left(\\phi \\right)} & c{\\left(\\phi \\right)} c{\\left(\\theta \\right)}\\end{matrix}\\right]$"
      ],
      "text/plain": [
       "⎡c(ψ)⋅c(θ)  -c(φ)⋅s(ψ) + c(ψ)⋅s(φ)⋅s(θ)  c(φ)⋅c(ψ)⋅s(θ) + s(φ)⋅s(ψ)⎤\n",
       "⎢                                                                  ⎥\n",
       "⎢c(θ)⋅s(ψ)  c(φ)⋅c(ψ) + s(φ)⋅s(ψ)⋅s(θ)   c(φ)⋅s(ψ)⋅s(θ) - c(ψ)⋅s(φ)⎥\n",
       "⎢                                                                  ⎥\n",
       "⎣  -s(θ)             c(θ)⋅s(φ)                   c(φ)⋅c(θ)         ⎦"
      ]
     },
     "metadata": {},
     "output_type": "display_data"
    },
    {
     "name": "stdout",
     "output_type": "stream",
     "text": [
      "omegaB0, skewe:\n"
     ]
    },
    {
     "data": {
      "text/latex": [
       "$\\displaystyle \\left[\\begin{matrix}0 & - c{\\left(\\phi \\right)} c{\\left(\\theta \\right)} \\dot{\\psi} + s{\\left(\\phi \\right)} \\dot{\\theta} & c{\\left(\\phi \\right)} \\dot{\\theta} + c{\\left(\\theta \\right)} s{\\left(\\phi \\right)} \\dot{\\psi}\\\\c{\\left(\\phi \\right)} c{\\left(\\theta \\right)} \\dot{\\psi} - s{\\left(\\phi \\right)} \\dot{\\theta} & 0 & s{\\left(\\theta \\right)} \\dot{\\psi} - \\dot{\\phi}\\\\- c{\\left(\\phi \\right)} \\dot{\\theta} - c{\\left(\\theta \\right)} s{\\left(\\phi \\right)} \\dot{\\psi} & - s{\\left(\\theta \\right)} \\dot{\\psi} + \\dot{\\phi} & 0\\end{matrix}\\right]$"
      ],
      "text/plain": [
       "⎡          0            -c(φ)⋅c(θ)⋅ψ̇ + s(φ)⋅θ̇  c(φ)⋅θ̇ + c(θ)⋅s(φ)⋅ψ̇⎤\n",
       "⎢                                                                  ⎥\n",
       "⎢c(φ)⋅c(θ)⋅ψ̇ - s(φ)⋅θ̇             0                 s(θ)⋅ψ̇ - φ̇     ⎥\n",
       "⎢                                                                  ⎥\n",
       "⎣-c(φ)⋅θ̇ - c(θ)⋅s(φ)⋅ψ̇       -s(θ)⋅ψ̇ + φ̇                0          ⎦"
      ]
     },
     "metadata": {},
     "output_type": "display_data"
    },
    {
     "name": "stdout",
     "output_type": "stream",
     "text": [
      "omegaB0_B,unskewed:\n"
     ]
    },
    {
     "data": {
      "text/latex": [
       "$\\displaystyle \\left[\\begin{matrix}- s{\\left(\\theta \\right)} \\dot{\\psi} + \\dot{\\phi}\\\\c{\\left(\\phi \\right)} \\dot{\\theta} + c{\\left(\\theta \\right)} s{\\left(\\phi \\right)} \\dot{\\psi}\\\\c{\\left(\\phi \\right)} c{\\left(\\theta \\right)} \\dot{\\psi} - s{\\left(\\phi \\right)} \\dot{\\theta}\\end{matrix}\\right]$"
      ],
      "text/plain": [
       "⎡    -s(θ)⋅ψ̇ + φ̇     ⎤\n",
       "⎢                    ⎥\n",
       "⎢c(φ)⋅θ̇ + c(θ)⋅s(φ)⋅ψ̇⎥\n",
       "⎢                    ⎥\n",
       "⎣c(φ)⋅c(θ)⋅ψ̇ - s(φ)⋅θ̇⎦"
      ]
     },
     "metadata": {},
     "output_type": "display_data"
    }
   ],
   "source": [
    "#defining variables:\n",
    "t = sp.symbols('t')\n",
    "theta = sp.Function('theta')(t)\n",
    "phi = sp.Function('phi')(t)\n",
    "psi = sp.Function('psi')(t)\n",
    "\n",
    "#rotation matrices:\n",
    "R0B = getRot('3',psi)*getRot('2',theta)*getRot('1',phi)\n",
    "RB0 = R0B.T\n",
    "\n",
    "#angular velocity of 3 frame wrt 0 frame, expressed in the 0 frame\n",
    "OmegaB0 = simplifyMatrix(R0B.T*R0B.diff(t))#skewed \n",
    "omegaB0 = unskew(OmegaB0)# unskewed\n",
    "\n",
    "print('R0B:')\n",
    "displayH(simplifyMatrix(R0B))\n",
    "print('omegaB0, skewe:')\n",
    "displayH(OmegaB0)\n",
    "print('omegaB0_B,unskewed:')\n",
    "displayH(omegaB0)\n",
    "\n",
    "eulerRates = sp.Matrix([phi.diff(t),theta.diff(t),psi.diff(t)]) #roll, pitch, yaw\n"
   ]
  },
  {
   "cell_type": "code",
   "execution_count": 41,
   "metadata": {},
   "outputs": [
    {
     "data": {
      "text/latex": [
       "$\\displaystyle \\left[\\begin{matrix}1 & \\sin{\\left(\\phi \\right)} \\tan{\\left(\\theta \\right)} & \\cos{\\left(\\phi \\right)} \\tan{\\left(\\theta \\right)}\\\\0 & \\cos{\\left(\\phi \\right)} & - \\sin{\\left(\\phi \\right)}\\\\0 & \\frac{\\sin{\\left(\\phi \\right)}}{\\cos{\\left(\\theta \\right)}} & \\frac{\\cos{\\left(\\phi \\right)}}{\\cos{\\left(\\theta \\right)}}\\end{matrix}\\right]$"
      ],
      "text/plain": [
       "⎡1  sin(φ)⋅tan(θ)  cos(φ)⋅tan(θ)⎤\n",
       "⎢                               ⎥\n",
       "⎢0     cos(φ)         -sin(φ)   ⎥\n",
       "⎢                               ⎥\n",
       "⎢      sin(φ)         cos(φ)    ⎥\n",
       "⎢0     ──────         ──────    ⎥\n",
       "⎣      cos(θ)         cos(θ)    ⎦"
      ]
     },
     "metadata": {},
     "output_type": "display_data"
    }
   ],
   "source": [
    "A = sp.zeros(3,3)\n",
    "for i in range(3):\n",
    "    for j in range(3):\n",
    "        A[i,j]+= (omegaB0[i].coeff(eulerRates[j]))\n",
    "\n",
    "display(simplifyMatrix(A.inv()))"
   ]
  }
 ],
 "metadata": {
  "kernelspec": {
   "display_name": "wheeledQuadcopter",
   "language": "python",
   "name": "python3"
  },
  "language_info": {
   "codemirror_mode": {
    "name": "ipython",
    "version": 3
   },
   "file_extension": ".py",
   "mimetype": "text/x-python",
   "name": "python",
   "nbconvert_exporter": "python",
   "pygments_lexer": "ipython3",
   "version": "3.10.12"
  },
  "orig_nbformat": 4
 },
 "nbformat": 4,
 "nbformat_minor": 2
}
